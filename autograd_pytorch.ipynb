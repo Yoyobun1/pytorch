{
 "cells": [
  {
   "cell_type": "markdown",
   "metadata": {},
   "source": [
    "Using pytorch to automate backpropopgation and to find wight uodate parameters"
   ]
  },
  {
   "cell_type": "code",
   "execution_count": 1,
   "metadata": {},
   "outputs": [],
   "source": [
    "import torch\n",
    "\n",
    "# f = w * x -> 2 * x"
   ]
  },
  {
   "cell_type": "code",
   "execution_count": 2,
   "metadata": {},
   "outputs": [],
   "source": [
    "X = torch.tensor([1,2,3,4], dtype=torch.float32)\n",
    "Y = torch.tensor([2,4,6,8], dtype=torch.float32)\n",
    "w = torch.tensor(0.0, dtype=torch.float32, requires_grad=True)"
   ]
  },
  {
   "cell_type": "code",
   "execution_count": 3,
   "metadata": {},
   "outputs": [],
   "source": [
    "def forward(x):\n",
    "    return w * x"
   ]
  },
  {
   "cell_type": "code",
   "execution_count": 4,
   "metadata": {},
   "outputs": [],
   "source": [
    "# y_hat = w * x\n",
    "def loss(y, y_hat):\n",
    "    return ((y_hat - y)**2).mean()"
   ]
  },
  {
   "cell_type": "code",
   "execution_count": 5,
   "metadata": {},
   "outputs": [
    {
     "name": "stdout",
     "output_type": "stream",
     "text": [
      "Prediction before training: f(5) = 0.0\n"
     ]
    }
   ],
   "source": [
    "print(f'Prediction before training: f(5) = {forward(5)}')"
   ]
  },
  {
   "cell_type": "code",
   "execution_count": 6,
   "metadata": {},
   "outputs": [
    {
     "name": "stdout",
     "output_type": "stream",
     "text": [
      "epoch 1: w = 0.30, loss = 30.00\n",
      "epoch 21: w = 1.93, loss = 0.05\n",
      "epoch 41: w = 2.00, loss = 0.00\n",
      "epoch 61: w = 2.00, loss = 0.00\n",
      "epoch 81: w = 2.00, loss = 0.00\n",
      "epoch 101: w = 2.00, loss = 0.00\n",
      "epoch 121: w = 2.00, loss = 0.00\n",
      "epoch 141: w = 2.00, loss = 0.00\n",
      "epoch 161: w = 2.00, loss = 0.00\n",
      "epoch 181: w = 2.00, loss = 0.00\n",
      "epoch 201: w = 2.00, loss = 0.00\n",
      "epoch 221: w = 2.00, loss = 0.00\n",
      "epoch 241: w = 2.00, loss = 0.00\n"
     ]
    }
   ],
   "source": [
    "learning_rate = 0.01\n",
    "n_iters = 250\n",
    "for epoch in range(n_iters):\n",
    "    #prediction -> forward pass\n",
    "    y_hat = forward(X)\n",
    "    \n",
    "    #loss\n",
    "    l = loss(Y, y_hat)\n",
    "    \n",
    "    # gradient descent = backward pass\n",
    "    l.backward() # calculate gradient -> dl/dw\n",
    "    \n",
    "    # update weights\n",
    "    with torch.no_grad(): \n",
    "        w -= learning_rate * w.grad\n",
    "        \n",
    "    # zero gradients\n",
    "    w.grad.zero_() \n",
    "    # we need to update w in the loop \n",
    "    # but if we don't make gradient zero, it will accumulate\n",
    "    # thereby updating w with the accumulated gradient\n",
    "    \n",
    "    if epoch % 20 == 0:\n",
    "        print(f\"epoch {epoch+1}: w = {w:.2f}, loss = {l:.2f}\")"
   ]
  },
  {
   "cell_type": "code",
   "execution_count": 13,
   "metadata": {},
   "outputs": [
    {
     "name": "stdout",
     "output_type": "stream",
     "text": [
      "Prediction after training: f(5) = 9.999998\n"
     ]
    }
   ],
   "source": [
    "print(f'Prediction after training: f(5) = {forward(5):.6f}')"
   ]
  },
  {
   "cell_type": "code",
   "execution_count": null,
   "metadata": {},
   "outputs": [],
   "source": []
  }
 ],
 "metadata": {
  "kernelspec": {
   "display_name": "pytorch",
   "language": "python",
   "name": "python3"
  },
  "language_info": {
   "codemirror_mode": {
    "name": "ipython",
    "version": 3
   },
   "file_extension": ".py",
   "mimetype": "text/x-python",
   "name": "python",
   "nbconvert_exporter": "python",
   "pygments_lexer": "ipython3",
   "version": "3.7.12"
  }
 },
 "nbformat": 4,
 "nbformat_minor": 2
}
